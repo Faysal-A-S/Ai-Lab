{
  "nbformat": 4,
  "nbformat_minor": 0,
  "metadata": {
    "colab": {
      "name": "lab2_practice.ipynb",
      "provenance": [],
      "authorship_tag": "ABX9TyNaZ7Z1o0ac4STkb5mofeD5",
      "include_colab_link": true
    },
    "kernelspec": {
      "name": "python3",
      "display_name": "Python 3"
    }
  },
  "cells": [
    {
      "cell_type": "markdown",
      "metadata": {
        "id": "view-in-github",
        "colab_type": "text"
      },
      "source": [
        "<a href=\"https://colab.research.google.com/github/Faysal-Student/Ai-Lab/blob/main/lab2_practice.ipynb\" target=\"_parent\"><img src=\"https://colab.research.google.com/assets/colab-badge.svg\" alt=\"Open In Colab\"/></a>"
      ]
    },
    {
      "cell_type": "code",
      "metadata": {
        "id": "WEDVDeREpenY",
        "outputId": "4f638ce0-a4d4-4c1e-a690-e5ba46363646",
        "colab": {
          "base_uri": "https://localhost:8080/",
          "height": 34
        }
      },
      "source": [
        "#conditional statement\n",
        "grade = 80\n",
        "if grade>=40:\n",
        "  print(\"passed\")"
      ],
      "execution_count": 1,
      "outputs": [
        {
          "output_type": "stream",
          "text": [
            "passed\n"
          ],
          "name": "stdout"
        }
      ]
    },
    {
      "cell_type": "code",
      "metadata": {
        "id": "inpyID62p597",
        "outputId": "9cfc53c6-d831-4cc8-95a1-825bb7f2d5f4",
        "colab": {
          "base_uri": "https://localhost:8080/",
          "height": 34
        }
      },
      "source": [
        "#while\n",
        "number = 2\n",
        "\n",
        "while (number<10):\n",
        "  print(number, end=\" \") \n",
        "  number+=2"
      ],
      "execution_count": 5,
      "outputs": [
        {
          "output_type": "stream",
          "text": [
            "2 4 6 8 "
          ],
          "name": "stdout"
        }
      ]
    },
    {
      "cell_type": "code",
      "metadata": {
        "id": "mvQKEJ2iqSxZ",
        "outputId": "a3e3c7f9-bc06-4668-8305-147ca01a2be6",
        "colab": {
          "base_uri": "https://localhost:8080/",
          "height": 34
        }
      },
      "source": [
        "#for\n",
        "for character in \"python\":\n",
        "  print(character, end=\" \")"
      ],
      "execution_count": 15,
      "outputs": [
        {
          "output_type": "stream",
          "text": [
            "p y t h o n "
          ],
          "name": "stdout"
        }
      ]
    },
    {
      "cell_type": "code",
      "metadata": {
        "id": "_becurbkqhLj",
        "outputId": "ba49e8ac-185e-46e2-8d90-1155e907e2e1",
        "colab": {
          "base_uri": "https://localhost:8080/",
          "height": 34
        }
      },
      "source": [
        "#sum loop\n",
        "total = 0\n",
        "for number in range(100):\n",
        "  total = total+number\n",
        "\n",
        "print(total)"
      ],
      "execution_count": 8,
      "outputs": [
        {
          "output_type": "stream",
          "text": [
            "4950\n"
          ],
          "name": "stdout"
        }
      ]
    },
    {
      "cell_type": "code",
      "metadata": {
        "id": "9tB7-3ZOq26Z",
        "outputId": "fa3735bc-f262-453d-e82e-05b122a343c9",
        "colab": {
          "base_uri": "https://localhost:8080/",
          "height": 136
        }
      },
      "source": [
        "#nested for loop\n",
        "for left in range(7):\n",
        "    for right in range(left,7):\n",
        "        print(\"[\",left,\"|\",right,\"]\", end =\" \")\n",
        "    print()"
      ],
      "execution_count": 20,
      "outputs": [
        {
          "output_type": "stream",
          "text": [
            "[ 0 | 0 ] [ 0 | 1 ] [ 0 | 2 ] [ 0 | 3 ] [ 0 | 4 ] [ 0 | 5 ] [ 0 | 6 ] \n",
            "[ 1 | 1 ] [ 1 | 2 ] [ 1 | 3 ] [ 1 | 4 ] [ 1 | 5 ] [ 1 | 6 ] \n",
            "[ 2 | 2 ] [ 2 | 3 ] [ 2 | 4 ] [ 2 | 5 ] [ 2 | 6 ] \n",
            "[ 3 | 3 ] [ 3 | 4 ] [ 3 | 5 ] [ 3 | 6 ] \n",
            "[ 4 | 4 ] [ 4 | 5 ] [ 4 | 6 ] \n",
            "[ 5 | 5 ] [ 5 | 6 ] \n",
            "[ 6 | 6 ] \n"
          ],
          "name": "stdout"
        }
      ]
    },
    {
      "cell_type": "code",
      "metadata": {
        "id": "ruR_y11utUTr",
        "outputId": "0550e565-b29d-4246-8653-0c108d1bd825",
        "colab": {
          "base_uri": "https://localhost:8080/",
          "height": 51
        }
      },
      "source": [
        "#break continue\n",
        "for number in range(6):\n",
        "  if  number==5:\n",
        "    break\n",
        "  print(number, end=\" \")\n",
        "\n",
        "print()\n",
        "for number in range(7):\n",
        "  if  number==5:\n",
        "    continue\n",
        "  print(number, end=\" \")  "
      ],
      "execution_count": 25,
      "outputs": [
        {
          "output_type": "stream",
          "text": [
            "0 1 2 3 4 \n",
            "0 1 2 3 4 6 "
          ],
          "name": "stdout"
        }
      ]
    }
  ]
}