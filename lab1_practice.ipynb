{
  "nbformat": 4,
  "nbformat_minor": 0,
  "metadata": {
    "colab": {
      "name": "lab1_practice.ipynb",
      "provenance": [],
      "collapsed_sections": [],
      "include_colab_link": true
    },
    "kernelspec": {
      "name": "python3",
      "display_name": "Python 3"
    }
  },
  "cells": [
    {
      "cell_type": "markdown",
      "metadata": {
        "id": "view-in-github",
        "colab_type": "text"
      },
      "source": [
        "<a href=\"https://colab.research.google.com/github/Faysal-Student/Ai-Lab/blob/main/lab1_practice.ipynb\" target=\"_parent\"><img src=\"https://colab.research.google.com/assets/colab-badge.svg\" alt=\"Open In Colab\"/></a>"
      ]
    },
    {
      "cell_type": "code",
      "metadata": {
        "id": "dBDLSunQ4xED",
        "outputId": "3a0273f6-d642-4c53-d0e9-cb4b7ce20637",
        "colab": {
          "base_uri": "https://localhost:8080/"
        }
      },
      "source": [
        "print(\"Hello World\")\n"
      ],
      "execution_count": null,
      "outputs": [
        {
          "output_type": "stream",
          "text": [
            "Hello World\n"
          ],
          "name": "stdout"
        }
      ]
    },
    {
      "cell_type": "code",
      "metadata": {
        "id": "-Nw8Kfdb42LI"
      },
      "source": [
        "x=7\n",
        "y=3\n",
        "print(x+y)"
      ],
      "execution_count": null,
      "outputs": []
    },
    {
      "cell_type": "code",
      "metadata": {
        "id": "uHYnl-tl5A7o",
        "outputId": "ad0dc594-8784-4ad9-faa7-dc0cfefddc66",
        "colab": {
          "base_uri": "https://localhost:8080/",
          "height": 34
        }
      },
      "source": [
        "#string\n",
        "name = \"Faysal\"\n",
        "name2 = \"Ahmed\"\n",
        "print(name +\" \"+ name2)"
      ],
      "execution_count": 3,
      "outputs": [
        {
          "output_type": "stream",
          "text": [
            "Faysal Ahmed\n"
          ],
          "name": "stdout"
        }
      ]
    },
    {
      "cell_type": "code",
      "metadata": {
        "id": "5utexVi3nCDc",
        "outputId": "5e9f5e85-5c6f-40e6-f594-96de33d68db1",
        "colab": {
          "base_uri": "https://localhost:8080/",
          "height": 34
        }
      },
      "source": [
        "#type\n",
        "x =-5\n",
        "type(x)"
      ],
      "execution_count": 4,
      "outputs": [
        {
          "output_type": "execute_result",
          "data": {
            "text/plain": [
              "int"
            ]
          },
          "metadata": {
            "tags": []
          },
          "execution_count": 4
        }
      ]
    },
    {
      "cell_type": "code",
      "metadata": {
        "id": "H95v1JlinOJ5",
        "outputId": "ec8105c0-bd5e-492b-a610-7aaadf6bdbf1",
        "colab": {
          "base_uri": "https://localhost:8080/",
          "height": 85
        }
      },
      "source": [
        "#arithmetic\n",
        "multiplication = 7*4\n",
        "addition = 7+4\n",
        "substraction =7-4\n",
        "division =7/4\n",
        "print(multiplication)\n",
        "print(addition)\n",
        "print(substraction) \n",
        "print(division)"
      ],
      "execution_count": 6,
      "outputs": [
        {
          "output_type": "stream",
          "text": [
            "28\n",
            "11\n",
            "3\n",
            "1.75\n"
          ],
          "name": "stdout"
        }
      ]
    },
    {
      "cell_type": "code",
      "metadata": {
        "id": "IEhfE_SUnu7h",
        "outputId": "912d729d-0378-40d4-d55a-fc908e2f4e17",
        "colab": {
          "base_uri": "https://localhost:8080/",
          "height": 34
        }
      },
      "source": [
        "#floor division\n",
        "Floor_Division = 7//4\n",
        "print(Floor_Division)"
      ],
      "execution_count": 7,
      "outputs": [
        {
          "output_type": "stream",
          "text": [
            "1\n"
          ],
          "name": "stdout"
        }
      ]
    },
    {
      "cell_type": "code",
      "metadata": {
        "id": "9g0304PFn2iZ",
        "outputId": "8850c7ff-37d8-445b-c417-bbe6f91cc4a4",
        "colab": {
          "base_uri": "https://localhost:8080/",
          "height": 34
        }
      },
      "source": [
        "#remainder\n",
        "remainder = 7%4\n",
        "print(remainder)"
      ],
      "execution_count": 8,
      "outputs": [
        {
          "output_type": "stream",
          "text": [
            "3\n"
          ],
          "name": "stdout"
        }
      ]
    },
    {
      "cell_type": "code",
      "metadata": {
        "id": "owBY0T4rn7sZ",
        "outputId": "c6764d97-8837-4a4f-e2f5-ee87a8d8611d",
        "colab": {
          "base_uri": "https://localhost:8080/",
          "height": 34
        }
      },
      "source": [
        "#chain comparison\n",
        "x = 3\n",
        "y = 10\n",
        "1 <= x <= 5"
      ],
      "execution_count": 9,
      "outputs": [
        {
          "output_type": "execute_result",
          "data": {
            "text/plain": [
              "True"
            ]
          },
          "metadata": {
            "tags": []
          },
          "execution_count": 9
        }
      ]
    },
    {
      "cell_type": "code",
      "metadata": {
        "id": "p_13Prwoowjx",
        "outputId": "b6ff2734-e954-43ca-f589-45f3208d0333",
        "colab": {
          "base_uri": "https://localhost:8080/",
          "height": 34
        }
      },
      "source": [
        "#int\n",
        "print('int(5.2)', 'truncates 5.2 to', int(5.2))"
      ],
      "execution_count": 10,
      "outputs": [
        {
          "output_type": "stream",
          "text": [
            "int(5.2) truncates 5.2 to 5\n"
          ],
          "name": "stdout"
        }
      ]
    },
    {
      "cell_type": "code",
      "metadata": {
        "id": "ekZlqJuHo-S5",
        "outputId": "82108c06-4d7d-444c-bccd-cdfe97bad8f7",
        "colab": {
          "base_uri": "https://localhost:8080/",
          "height": 85
        }
      },
      "source": [
        "#ex\n",
        "x=2\n",
        "y=3\n",
        "print('x =', x)\n",
        "print('Value of', x, '+', x, 'is', (x + x))\n",
        "print('x =')\n",
        "print((x + y), '=', (y + x))\n"
      ],
      "execution_count": 11,
      "outputs": [
        {
          "output_type": "stream",
          "text": [
            "x = 2\n",
            "Value of 2 + 2 is 4\n",
            "x =\n",
            "5 = 5\n"
          ],
          "name": "stdout"
        }
      ]
    }
  ]
}